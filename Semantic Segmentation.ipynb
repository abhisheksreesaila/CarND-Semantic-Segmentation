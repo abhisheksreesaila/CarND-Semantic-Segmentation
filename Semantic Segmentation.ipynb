{
 "cells": [
  {
   "cell_type": "code",
   "execution_count": 1,
   "metadata": {},
   "outputs": [],
   "source": [
    "\n",
    "import os.path\n",
    "import tensorflow as tf\n",
    "import helper\n",
    "import warnings\n",
    "from distutils.version import LooseVersion\n",
    "import project_tests as tests\n",
    "from tensorflow.python.tools import inspect_checkpoint as chkp\n",
    "import os\n",
    "import scipy.misc\n",
    "import numpy as np"
   ]
  },
  {
   "cell_type": "code",
   "execution_count": 2,
   "metadata": {},
   "outputs": [
    {
     "name": "stdout",
     "output_type": "stream",
     "text": [
      "TensorFlow Version: 1.13.1\n",
      "Default GPU Device: /device:GPU:0\n"
     ]
    }
   ],
   "source": [
    "# Check TensorFlow Version\n",
    "assert LooseVersion(tf.__version__) >= LooseVersion('1.0'), 'Please use TensorFlow version 1.0 or newer.  You are using {}'.format(tf.__version__)\n",
    "print('TensorFlow Version: {}'.format(tf.__version__))\n",
    "\n",
    "# Check for a GPU\n",
    "if not tf.test.gpu_device_name():\n",
    "    warnings.warn('No GPU found. Please use a GPU to train your neural network.')\n",
    "else:\n",
    "    print('Default GPU Device: {}'.format(tf.test.gpu_device_name()))\n"
   ]
  },
  {
   "cell_type": "code",
   "execution_count": 4,
   "metadata": {},
   "outputs": [
    {
     "name": "stdout",
     "output_type": "stream",
     "text": [
      "Tests Passed\n"
     ]
    }
   ],
   "source": [
    "def load_vgg(sess, vgg_path):\n",
    "    \"\"\"\n",
    "    Load Pretrained VGG Model into TensorFlow.\n",
    "    :param sess: TensorFlow Session\n",
    "    :param vgg_path: Path to vgg folder, containing \"variables/\" and \"saved_model.pb\"\n",
    "    :return: Tuple of Tensors from VGG model (image_input, keep_prob, layer3_out, layer4_out, layer7_out)\n",
    "    \"\"\"\n",
    "    vgg_tag = 'vgg16'\n",
    "    vgg_input_tensor_name = 'image_input:0'\n",
    "    vgg_keep_prob_tensor_name = 'keep_prob:0'\n",
    "    vgg_layer3_out_tensor_name = 'layer3_out:0'\n",
    "    vgg_layer4_out_tensor_name = 'layer4_out:0'\n",
    "    vgg_layer7_out_tensor_name = 'layer7_out:0'\n",
    "           \n",
    "    tf.saved_model.loader.load(sess,[vgg_tag],vgg_path)  #load vgg as default graph\n",
    "    detection_graph = tf.get_default_graph()             # get the default graph\n",
    "    \n",
    "    #Extract Tensors\n",
    "    image_input = detection_graph.get_tensor_by_name(vgg_input_tensor_name)    \n",
    "    keep_prob = detection_graph.get_tensor_by_name(vgg_keep_prob_tensor_name)\n",
    "    layer3_out = detection_graph.get_tensor_by_name(vgg_layer3_out_tensor_name)\n",
    "    layer4_out = detection_graph.get_tensor_by_name(vgg_layer4_out_tensor_name)\n",
    "    layer7_out = detection_graph.get_tensor_by_name(vgg_layer7_out_tensor_name)\n",
    "    \n",
    "    return (image_input, keep_prob, layer3_out, layer4_out, layer7_out)\n",
    "\n",
    "tests.test_load_vgg(load_vgg, tf)\n"
   ]
  },
  {
   "cell_type": "code",
   "execution_count": 5,
   "metadata": {},
   "outputs": [
    {
     "name": "stdout",
     "output_type": "stream",
     "text": [
      "\n",
      "WARNING: The TensorFlow contrib module will not be included in TensorFlow 2.0.\n",
      "For more information, please see:\n",
      "  * https://github.com/tensorflow/community/blob/master/rfcs/20180907-contrib-sunset.md\n",
      "  * https://github.com/tensorflow/addons\n",
      "If you depend on functionality not listed there, please file an issue.\n",
      "\n",
      "WARNING:tensorflow:From <ipython-input-5-d85f0bbeaae6>:17: conv2d (from tensorflow.python.layers.convolutional) is deprecated and will be removed in a future version.\n",
      "Instructions for updating:\n",
      "Use keras.layers.conv2d instead.\n",
      "WARNING:tensorflow:From F:\\ProgramData\\Anaconda3\\lib\\site-packages\\tensorflow\\python\\framework\\op_def_library.py:263: colocate_with (from tensorflow.python.framework.ops) is deprecated and will be removed in a future version.\n",
      "Instructions for updating:\n",
      "Colocations handled automatically by placer.\n",
      "WARNING:tensorflow:From <ipython-input-5-d85f0bbeaae6>:25: conv2d_transpose (from tensorflow.python.layers.convolutional) is deprecated and will be removed in a future version.\n",
      "Instructions for updating:\n",
      "Use keras.layers.conv2d_transpose instead.\n",
      "Tests Passed\n"
     ]
    }
   ],
   "source": [
    "\n",
    "def layers(vgg_layer3_out, vgg_layer4_out, vgg_layer7_out, num_classes):\n",
    "    \"\"\"\n",
    "    Create the layers for a fully convolutional network.  Build skip-layers using the vgg layers.\n",
    "    :param vgg_layer3_out: TF Tensor for VGG Layer 3 output\n",
    "    :param vgg_layer4_out: TF Tensor for VGG Layer 4 output\n",
    "    :param vgg_layer7_out: TF Tensor for VGG Layer 7 output\n",
    "    :param num_classes: Number of classes to classify\n",
    "    :return: The Tensor for the last layer of output\n",
    "    \"\"\"\n",
    "    \n",
    "    conv7_1x1 = tf.layers.conv2d(vgg_layer7_out,\n",
    "                                 num_classes,1, \n",
    "                                 padding='same', \n",
    "                                 kernel_initializer = tf.random_normal_initializer(stddev=0.01),\n",
    "                                 kernel_regularizer=tf.contrib.layers.l2_regularizer(1e-3), \n",
    "                                 name = 'conv7_1x1')\n",
    "    \n",
    "    upsample1 = tf.layers.conv2d_transpose(conv7_1x1, \n",
    "                                           num_classes,\n",
    "                                           4,\n",
    "                                           strides=(2, 2),\n",
    "                                           padding='same', \n",
    "                                           kernel_initializer = tf.random_normal_initializer(stddev=0.01),\n",
    "                                           kernel_regularizer=tf.contrib.layers.l2_regularizer(1e-3), name = 'upsample1')\n",
    "    \n",
    "    conv4_1x1 = tf.layers.conv2d(vgg_layer4_out, \n",
    "                                 num_classes,\n",
    "                                 1, \n",
    "                                 padding='same',\n",
    "                                 kernel_regularizer=tf.contrib.layers.l2_regularizer(1e-3),\n",
    "                                 kernel_initializer = tf.random_normal_initializer(stddev=0.01),\n",
    "                                 name = 'conv4_1x1') \n",
    "    \n",
    "    skip1 = tf.add(upsample1, conv4_1x1, name = 'skip1')\n",
    "    \n",
    "    \n",
    "    \n",
    "    \n",
    "    \n",
    "    upsample2 = tf.layers.conv2d_transpose(skip1,\n",
    "                                           num_classes,\n",
    "                                           4,\n",
    "                                           strides=(2, 2),\n",
    "                                           padding='same', \n",
    "                                           kernel_regularizer=tf.contrib.layers.l2_regularizer(1e-3), \n",
    "                                           name = 'upsample2') \n",
    "    \n",
    "    conv3_1x1 = tf.layers.conv2d(vgg_layer3_out, \n",
    "                                 num_classes,1, \n",
    "                                 padding='same',\n",
    "                                 kernel_initializer = tf.random_normal_initializer(stddev=0.01),\n",
    "                                 kernel_regularizer=tf.contrib.layers.l2_regularizer(1e-3), name = 'conv3_1x1')  \n",
    "    \n",
    "    skip2 = tf.add(upsample2, conv3_1x1, name = 'skip2')\n",
    "    \n",
    "    upsample3 = tf.layers.conv2d_transpose(skip2, \n",
    "                                           num_classes,\n",
    "                                           16,\n",
    "                                           strides=(8, 8), \n",
    "                                           padding='same', \n",
    "                                           kernel_initializer = tf.random_normal_initializer(stddev=0.01),\n",
    "                                           kernel_regularizer=tf.contrib.layers.l2_regularizer(1e-3), \n",
    "                                           name = 'upsample3') \n",
    "   \n",
    "    \n",
    "    return upsample3\n",
    "\n",
    "tests.test_layers(layers)\n"
   ]
  },
  {
   "cell_type": "code",
   "execution_count": 6,
   "metadata": {},
   "outputs": [
    {
     "name": "stdout",
     "output_type": "stream",
     "text": [
      "WARNING:tensorflow:From <ipython-input-6-683e0101fafd>:14: softmax_cross_entropy_with_logits (from tensorflow.python.ops.nn_ops) is deprecated and will be removed in a future version.\n",
      "Instructions for updating:\n",
      "\n",
      "Future major versions of TensorFlow will allow gradients to flow\n",
      "into the labels input on backprop by default.\n",
      "\n",
      "See `tf.nn.softmax_cross_entropy_with_logits_v2`.\n",
      "\n",
      "Tests Passed\n"
     ]
    }
   ],
   "source": [
    "def optimize(nn_last_layer, correct_label, learning_rate, num_classes):\n",
    "    \"\"\"\n",
    "    Build the TensorFLow loss and optimizer operations.\n",
    "    :param nn_last_layer: TF Tensor of the last layer in the neural network\n",
    "    :param correct_label: TF Placeholder for the correct label image\n",
    "    :param learning_rate: TF Placeholder for the learning rate\n",
    "    :param num_classes: Number of classes to classify\n",
    "    :return: Tuple of (logits, train_op, cross_entropy_loss)\n",
    "    \"\"\"\n",
    "    # TODO: Implement function\n",
    "\n",
    "    logits = tf.reshape(nn_last_layer, (-1, num_classes))\n",
    "    correct_label = tf.reshape(correct_label, (-1,num_classes))\n",
    "    cross_entropy_loss = tf.reduce_mean(tf.nn.softmax_cross_entropy_with_logits(logits= logits, labels= correct_label))\n",
    "    optimizer = tf.train.AdamOptimizer(learning_rate= learning_rate)\n",
    "    train_op = optimizer.minimize(cross_entropy_loss)\n",
    "    \n",
    "    return  (logits, train_op, cross_entropy_loss)\n",
    "\n",
    "tests.test_optimize(optimize)\n"
   ]
  },
  {
   "cell_type": "code",
   "execution_count": 7,
   "metadata": {},
   "outputs": [
    {
     "name": "stdout",
     "output_type": "stream",
     "text": [
      "WARNING:tensorflow:From <ipython-input-4-e5d4a5bc9397>:15: load (from tensorflow.python.saved_model.loader_impl) is deprecated and will be removed in a future version.\n",
      "Instructions for updating:\n",
      "This function will only be available through the v1 compatibility library as tf.compat.v1.saved_model.loader.load or tf.compat.v1.saved_model.load. There will be a new function for importing SavedModels in Tensorflow 2.0.\n",
      "WARNING:tensorflow:From F:\\ProgramData\\Anaconda3\\lib\\site-packages\\tensorflow\\python\\training\\saver.py:1266: checkpoint_exists (from tensorflow.python.training.checkpoint_management) is deprecated and will be removed in a future version.\n",
      "Instructions for updating:\n",
      "Use standard file APIs to check for files with this prefix.\n",
      "INFO:tensorflow:Restoring parameters from ./data\\vgg\\variables\\variables\n",
      "INFO:tensorflow:Restoring parameters from .\\fcnmodel\n",
      "INFO:tensorflow:Restoring parameters from .\\fcnmodel\n",
      "WARNING:tensorflow:From <ipython-input-41-e6553a0106b4>:2: all_variables (from tensorflow.python.ops.variables) is deprecated and will be removed after 2017-03-02.\n",
      "Instructions for updating:\n",
      "Please use tf.global_variables instead.\n"
     ]
    }
   ],
   "source": [
    "def train_nn(sess, epochs, batch_size, get_batches_fn, train_op, cross_entropy_loss, input_image,\n",
    "             correct_label, keep_prob, learning_rate):\n",
    "    \"\"\"\n",
    "    Train neural network and print out the loss during training.\n",
    "    :param sess: TF Session\n",
    "    :param epochs: Number of epochs\n",
    "    :param batch_size: Batch size\n",
    "    :param get_batches_fn: Function to get batches of training data.  Call using get_batches_fn(batch_size)\n",
    "    :param train_op: TF Operation to train the neural network\n",
    "    :param cross_entropy_loss: TF Tensor for the amount of loss\n",
    "    :param input_image: TF Placeholder for input images\n",
    "    :param correct_label: TF Placeholder for label images\n",
    "    :param keep_prob: TF Placeholder for dropout keep probability\n",
    "    :param learning_rate: TF Placeholder for learning rate\n",
    "    \"\"\"\n",
    "    \n",
    "    sess.run(tf.global_variables_initializer())\n",
    "\n",
    "    print('Starting training... for {} epochs'.format(epochs))\n",
    "    print()\n",
    "    for epoch in range(epochs):\n",
    "        print('Epoch : {}'.format(epoch + 1))\n",
    "        loss_log = []\n",
    "        for image, label in get_batches_fn(batch_size):\n",
    "            _, loss = sess.run([train_op, cross_entropy_loss],\n",
    "                                feed_dict={\n",
    "                                    input_image: image,\n",
    "                                    correct_label: label,\n",
    "                                    keep_prob: 0.5,\n",
    "                                    learning_rate: 0.00001\n",
    "                                })\n",
    "            loss_log.append('{:3f}'.format(loss))\n",
    "        print(loss_log)\n",
    "        print(\"----------------------------------------------\")\n",
    "    print('Training finished')\n",
    "    \n",
    "tests.test_train_nn(train_nn)"
   ]
  },
  {
   "cell_type": "code",
   "execution_count": 10,
   "metadata": {},
   "outputs": [],
   "source": [
    "def run():\n",
    "    num_classes = 2\n",
    "    image_shape = (160, 576)  # KITTI dataset uses 160x576 images\n",
    "    data_dir = './data'\n",
    "    runs_dir = './runs'\n",
    "    tests.test_for_kitti_dataset(data_dir)\n",
    "    \n",
    "    helper.maybe_download_pretrained_vgg(data_dir)\n",
    "\n",
    "    with tf.Session() as sess:\n",
    "     \n",
    "        vgg_path = os.path.join(data_dir, 'vgg')    \n",
    "        get_batches_fn = helper.gen_batch_function(os.path.join(data_dir, 'data_road/training'), image_shape)\n",
    "        correct_label = tf.placeholder(tf.int32, [None, None, None, num_classes], name='correct_label')\n",
    "        learning_rate = tf.placeholder(tf.float32, name='learning_rate')\n",
    "        input_image, keep_prob, layer3_out, layer4_out, layer7_out = load_vgg(sess, vgg_path)\n",
    "        layer_output = layers(layer3_out, layer4_out, layer7_out, num_classes)\n",
    "        logits, train_op, cross_entropy_loss = optimize(layer_output, correct_label, learning_rate, num_classes)\n",
    "        epochs = 32\n",
    "        batch_size = 4\n",
    "        saver = tf.train.Saver()\n",
    "        train_nn(sess, epochs, batch_size, get_batches_fn, train_op, cross_entropy_loss, input_image,\n",
    "                 correct_label, keep_prob, learning_rate)\n",
    "        \n",
    "        saver.save(sess, 'fcnmodel')\n",
    "        helper.save_inference_samples(runs_dir, data_dir, sess, image_shape, logits, keep_prob, input_image)"
   ]
  },
  {
   "cell_type": "code",
   "execution_count": 12,
   "metadata": {},
   "outputs": [],
   "source": [
    "run()"
   ]
  },
  {
   "cell_type": "code",
   "execution_count": 2,
   "metadata": {},
   "outputs": [],
   "source": [
    "# Import everything needed to edit/save/watch video clips\n",
    "from moviepy.editor import VideoFileClip\n",
    "from IPython.display import HTML"
   ]
  },
  {
   "cell_type": "code",
   "execution_count": 4,
   "metadata": {},
   "outputs": [],
   "source": [
    "def pipeline(img):\n",
    "    \n",
    "    img_orig_size = (img.shape[0], img.shape[1])\n",
    "    num_classes = 2\n",
    "    image_shape = (160, 576)  # KITTI dataset uses 160x576 images\n",
    "    \n",
    "    detection_graph = tf.get_default_graph()\n",
    "    image_input = detection_graph.get_tensor_by_name('image_input:0')    \n",
    "    keep_prob = detection_graph.get_tensor_by_name('keep_prob:0')\n",
    "    upsample3 = detection_graph.get_tensor_by_name('upsample3/conv2d_transpose:0')\n",
    "    logits = tf.reshape(upsample3, (-1, num_classes))\n",
    "    resized_image = scipy.misc.imresize(img, image_shape)\n",
    "    \n",
    "  \n",
    "    im_softmax = sess.run(\n",
    "            [tf.nn.softmax(logits)],\n",
    "            {keep_prob: 1.0, image_input: [resized_image]})\n",
    "    \n",
    "    \n",
    "    im_softmax = im_softmax[0][:, 1].reshape(image_shape[0], image_shape[1])\n",
    "    segmentation = (im_softmax > 0.5).reshape(image_shape[0], image_shape[1], 1)\n",
    "    mask = np.dot(segmentation, np.array([[0, 255, 0, 127]]))\n",
    "    mask = scipy.misc.toimage(mask, mode=\"RGBA\")\n",
    "    street_im = scipy.misc.toimage(resized_image)\n",
    "    street_im.paste(mask, box=None, mask=mask)\n",
    "    street_img_resized = scipy.misc.imresize(street_im, img_orig_size)\n",
    "    \n",
    "    return np.array(street_img_resized)"
   ]
  },
  {
   "cell_type": "code",
   "execution_count": 5,
   "metadata": {},
   "outputs": [
    {
     "name": "stdout",
     "output_type": "stream",
     "text": [
      "WARNING:tensorflow:From F:\\ProgramData\\Anaconda3\\lib\\site-packages\\tensorflow\\python\\training\\saver.py:1266: checkpoint_exists (from tensorflow.python.training.checkpoint_management) is deprecated and will be removed in a future version.\n",
      "Instructions for updating:\n",
      "Use standard file APIs to check for files with this prefix.\n",
      "INFO:tensorflow:Restoring parameters from .\\fcnmodel\n"
     ]
    }
   ],
   "source": [
    "\n",
    "sess = tf.Session() \n",
    "saver = tf.train.import_meta_graph('fcnmodel.meta')\n",
    "saver.restore(sess, tf.train.latest_checkpoint('.\\\\'))\n",
    "\n",
    "#Test Sample Image\n",
    "    # graph = tf.get_default_graph()\n",
    "    # list_of_tuples = [op.values() for op in graph.get_operations()]\n",
    "    # list_of_tuples\n",
    "    # image_file = \"F:\\\\Data Science\\\\Semantic Segmentation\\\\CarND-Semantic-Segmentation-master\\\\data\\\\data_road\\\\testing\\\\image_2\\\\um_000000.png\"\n",
    "    # image_shape = (160, 576) \n",
    "    # image = scipy.misc.imresize(scipy.misc.imread(image_file), image_shape)\n",
    "    # image.shape\n",
    "    # pipeline(image)"
   ]
  },
  {
   "cell_type": "code",
   "execution_count": 6,
   "metadata": {},
   "outputs": [
    {
     "name": "stdout",
     "output_type": "stream",
     "text": [
      "Moviepy - Building video result.mp4.\n",
      "MoviePy - Writing audio in %s\n"
     ]
    },
    {
     "name": "stderr",
     "output_type": "stream",
     "text": [
      "                                                                                                                       \r"
     ]
    },
    {
     "name": "stdout",
     "output_type": "stream",
     "text": [
      "MoviePy - Done.\n",
      "Moviepy - Writing video result.mp4\n",
      "\n"
     ]
    },
    {
     "name": "stderr",
     "output_type": "stream",
     "text": [
      "                                                                                                                       \r"
     ]
    },
    {
     "name": "stdout",
     "output_type": "stream",
     "text": [
      "Moviepy - Done !\n",
      "Moviepy - video ready result.mp4\n"
     ]
    }
   ],
   "source": [
    "clip = VideoFileClip('driving.mp4')\n",
    "new_clip = clip.fl_image(pipeline)\n",
    "new_clip.write_videofile('result.mp4')"
   ]
  },
  {
   "cell_type": "code",
   "execution_count": 3,
   "metadata": {},
   "outputs": [
    {
     "data": {
      "text/html": [
       "\n",
       "<video width=\"960\" height=\"600\" controls>\n",
       "  <source src=\"result.mp4\" type=\"video/mp4\">\n",
       "</video>\n"
      ],
      "text/plain": [
       "<IPython.core.display.HTML object>"
      ]
     },
     "execution_count": 3,
     "metadata": {},
     "output_type": "execute_result"
    }
   ],
   "source": [
    "\n",
    "HTML(\"\"\"\n",
    "<video width=\"960\" height=\"600\" controls>\n",
    "  <source src=\"{0}\" type=\"video/mp4\">\n",
    "</video>\n",
    "\"\"\".format('result.mp4'))"
   ]
  }
 ],
 "metadata": {
  "kernelspec": {
   "display_name": "Python 3",
   "language": "python",
   "name": "python3"
  },
  "language_info": {
   "codemirror_mode": {
    "name": "ipython",
    "version": 3
   },
   "file_extension": ".py",
   "mimetype": "text/x-python",
   "name": "python",
   "nbconvert_exporter": "python",
   "pygments_lexer": "ipython3",
   "version": "3.7.3"
  }
 },
 "nbformat": 4,
 "nbformat_minor": 2
}
